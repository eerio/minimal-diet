{
 "cells": [
  {
   "cell_type": "code",
   "execution_count": 1,
   "id": "25191ce3",
   "metadata": {},
   "outputs": [],
   "source": [
    "import pandas as pd\n",
    "df = pd.read_csv('../datasets/lentil-samaranayaka/data.csv', delimiter='\\t', index_col=0)"
   ]
  },
  {
   "cell_type": "code",
   "execution_count": 2,
   "id": "d693245e",
   "metadata": {},
   "outputs": [],
   "source": [
    "essentials = ['Histidine', 'Isoleucine', 'Leucine', 'Lysine', 'Methionine', 'Phenylalanine', 'Threonine', 'Tryptophan', 'Valine']"
   ]
  },
  {
   "cell_type": "code",
   "execution_count": 3,
   "id": "98d5586e",
   "metadata": {},
   "outputs": [
    {
     "data": {
      "text/plain": [
       "<Axes: xlabel='Amino Acid'>"
      ]
     },
     "execution_count": 3,
     "metadata": {},
     "output_type": "execute_result"
    },
    {
     "data": {
      "image/png": "[encoded data removed]",
      "text/plain": [
       "<Figure size 400x400 with 1 Axes>"
      ]
     },
     "metadata": {},
     "output_type": "display_data"
    }
   ],
   "source": [
    "df[['Lentil', 'Brown Rice', 'Egg']].loc[essentials].plot(kind='bar', figsize=(4,4))"
   ]
  },
  {
   "cell_type": "markdown",
   "id": "1461a421",
   "metadata": {},
   "source": [
    "# Get lentil profile"
   ]
  },
  {
   "cell_type": "code",
   "execution_count": 4,
   "id": "9cf4ae2a",
   "metadata": {},
   "outputs": [
    {
     "data": {
      "text/plain": [
       "92.10000000000001"
      ]
     },
     "execution_count": 4,
     "metadata": {},
     "output_type": "execute_result"
    }
   ],
   "source": [
    "df['Lentil'].sum()"
   ]
  },
  {
   "cell_type": "code",
   "execution_count": 5,
   "id": "fbd3afba",
   "metadata": {},
   "outputs": [
    {
     "data": {
      "text/plain": [
       "(Amino Acid\n",
       " Histidine        0.030402\n",
       " Isoleucine       0.046688\n",
       " Leucine          0.079262\n",
       " Lysine           0.076004\n",
       " Methionine       0.009772\n",
       " Phenylalanine    0.053203\n",
       " Threonine        0.039088\n",
       " Tryptophan       0.009772\n",
       " Valine           0.054289\n",
       " Name: Lentil, dtype: float64,\n",
       " 0.39847991313789355)"
      ]
     },
     "execution_count": 5,
     "metadata": {},
     "output_type": "execute_result"
    }
   ],
   "source": [
    "lentil_protein = (df['Lentil'] / df['Lentil'].sum())[essentials]\n",
    "lentil_protein, lentil_protein.sum()"
   ]
  },
  {
   "cell_type": "markdown",
   "id": "bad69284",
   "metadata": {},
   "source": [
    "# Get rice profile"
   ]
  },
  {
   "cell_type": "code",
   "execution_count": 6,
   "id": "8d9e2791",
   "metadata": {},
   "outputs": [],
   "source": [
    "# [g/100g of rice protein]\n",
    "rice_df = pd.read_csv('../datasets/rice-polymers2022/data.csv', index_col=0, delimiter=' ', header=None, names=['Amino acid', 'contents'])"
   ]
  },
  {
   "cell_type": "code",
   "execution_count": 7,
   "id": "499387a9",
   "metadata": {},
   "outputs": [
    {
     "data": {
      "text/html": [
       "<div>\n",
       "<style scoped>\n",
       "    .dataframe tbody tr th:only-of-type {\n",
       "        vertical-align: middle;\n",
       "    }\n",
       "\n",
       "    .dataframe tbody tr th {\n",
       "        vertical-align: top;\n",
       "    }\n",
       "\n",
       "    .dataframe thead th {\n",
       "        text-align: right;\n",
       "    }\n",
       "</style>\n",
       "<table border=\"1\" class=\"dataframe\">\n",
       "  <thead>\n",
       "    <tr style=\"text-align: right;\">\n",
       "      <th></th>\n",
       "      <th>contents</th>\n",
       "    </tr>\n",
       "    <tr>\n",
       "      <th>Amino acid</th>\n",
       "      <th></th>\n",
       "    </tr>\n",
       "  </thead>\n",
       "  <tbody>\n",
       "    <tr>\n",
       "      <th>Threonine</th>\n",
       "      <td>2.09</td>\n",
       "    </tr>\n",
       "    <tr>\n",
       "      <th>Valine</th>\n",
       "      <td>3.78</td>\n",
       "    </tr>\n",
       "    <tr>\n",
       "      <th>Isoleucine</th>\n",
       "      <td>2.69</td>\n",
       "    </tr>\n",
       "    <tr>\n",
       "      <th>Leucine</th>\n",
       "      <td>5.30</td>\n",
       "    </tr>\n",
       "    <tr>\n",
       "      <th>Lysine</th>\n",
       "      <td>2.20</td>\n",
       "    </tr>\n",
       "    <tr>\n",
       "      <th>Histidine</th>\n",
       "      <td>1.19</td>\n",
       "    </tr>\n",
       "    <tr>\n",
       "      <th>Cystine</th>\n",
       "      <td>0.13</td>\n",
       "    </tr>\n",
       "    <tr>\n",
       "      <th>Tyrosine</th>\n",
       "      <td>1.33</td>\n",
       "    </tr>\n",
       "    <tr>\n",
       "      <th>MethioninePlusCystine</th>\n",
       "      <td>2.35</td>\n",
       "    </tr>\n",
       "    <tr>\n",
       "      <th>PhenylalaninePlusTyrosine</th>\n",
       "      <td>6.80</td>\n",
       "    </tr>\n",
       "  </tbody>\n",
       "</table>\n",
       "</div>"
      ],
      "text/plain": [
       "                           contents\n",
       "Amino acid                         \n",
       "Threonine                      2.09\n",
       "Valine                         3.78\n",
       "Isoleucine                     2.69\n",
       "Leucine                        5.30\n",
       "Lysine                         2.20\n",
       "Histidine                      1.19\n",
       "Cystine                        0.13\n",
       "Tyrosine                       1.33\n",
       "MethioninePlusCystine          2.35\n",
       "PhenylalaninePlusTyrosine      6.80"
      ]
     },
     "execution_count": 7,
     "metadata": {},
     "output_type": "execute_result"
    }
   ],
   "source": [
    "rice_df"
   ]
  },
  {
   "cell_type": "code",
   "execution_count": 8,
   "id": "e4027aa7",
   "metadata": {},
   "outputs": [
    {
     "data": {
      "text/plain": [
       "68.18"
      ]
     },
     "execution_count": 8,
     "metadata": {},
     "output_type": "execute_result"
    }
   ],
   "source": [
    "rice_sum_of_protein = rice_df['contents'].sum() + 8.1 + 2.96 + 13.36 + 4.21 + 3.69 + 5.30 + 2.70\n",
    "rice_sum_of_protein"
   ]
  },
  {
   "cell_type": "code",
   "execution_count": 9,
   "id": "c7bb806b",
   "metadata": {},
   "outputs": [
    {
     "data": {
      "text/plain": [
       "0.408624229979466"
      ]
     },
     "execution_count": 9,
     "metadata": {},
     "output_type": "execute_result"
    }
   ],
   "source": [
    "rice_protein = rice_df['contents'] / rice_sum_of_protein\n",
    "rice_protein.sum()"
   ]
  },
  {
   "cell_type": "markdown",
   "id": "757f15ed",
   "metadata": {},
   "source": [
    "# Get egg profile"
   ]
  },
  {
   "cell_type": "code",
   "execution_count": 35,
   "id": "37d0ef79",
   "metadata": {},
   "outputs": [
    {
     "data": {
      "text/plain": [
       "0.5276639344262296"
      ]
     },
     "execution_count": 35,
     "metadata": {},
     "output_type": "execute_result"
    }
   ],
   "source": [
    "egg_protein = (df['Egg'] / df['Egg'].sum())[essentials]\n",
    "egg_protein['MethioninePlusCystine'] = (df['Egg']['Methionine'] + df['Egg']['Cystine']) / df['Egg'].sum()\n",
    "egg_protein.sum()"
   ]
  },
  {
   "cell_type": "markdown",
   "id": "7d2e2434",
   "metadata": {},
   "source": [
    "# Get requirements"
   ]
  },
  {
   "cell_type": "code",
   "execution_count": 10,
   "id": "b0dacf47",
   "metadata": {},
   "outputs": [
    {
     "data": {
      "text/html": [
       "<div>\n",
       "<style scoped>\n",
       "    .dataframe tbody tr th:only-of-type {\n",
       "        vertical-align: middle;\n",
       "    }\n",
       "\n",
       "    .dataframe tbody tr th {\n",
       "        vertical-align: top;\n",
       "    }\n",
       "\n",
       "    .dataframe thead th {\n",
       "        text-align: right;\n",
       "    }\n",
       "</style>\n",
       "<table border=\"1\" class=\"dataframe\">\n",
       "  <thead>\n",
       "    <tr style=\"text-align: right;\">\n",
       "      <th></th>\n",
       "      <th>contents</th>\n",
       "    </tr>\n",
       "    <tr>\n",
       "      <th>Amino acid</th>\n",
       "      <th></th>\n",
       "    </tr>\n",
       "  </thead>\n",
       "  <tbody>\n",
       "    <tr>\n",
       "      <th>Histidine</th>\n",
       "      <td>12.0</td>\n",
       "    </tr>\n",
       "    <tr>\n",
       "      <th>Isoleucine</th>\n",
       "      <td>10.0</td>\n",
       "    </tr>\n",
       "    <tr>\n",
       "      <th>Leucine</th>\n",
       "      <td>14.0</td>\n",
       "    </tr>\n",
       "    <tr>\n",
       "      <th>Lysine</th>\n",
       "      <td>12.0</td>\n",
       "    </tr>\n",
       "    <tr>\n",
       "      <th>MethioninePlusCystine</th>\n",
       "      <td>13.0</td>\n",
       "    </tr>\n",
       "    <tr>\n",
       "      <th>PhenylalaninePlusTyrosine</th>\n",
       "      <td>14.0</td>\n",
       "    </tr>\n",
       "    <tr>\n",
       "      <th>Threonine</th>\n",
       "      <td>7.0</td>\n",
       "    </tr>\n",
       "    <tr>\n",
       "      <th>Tryptophan</th>\n",
       "      <td>3.5</td>\n",
       "    </tr>\n",
       "    <tr>\n",
       "      <th>Valine</th>\n",
       "      <td>10.0</td>\n",
       "    </tr>\n",
       "  </tbody>\n",
       "</table>\n",
       "</div>"
      ],
      "text/plain": [
       "                           contents\n",
       "Amino acid                         \n",
       "Histidine                      12.0\n",
       "Isoleucine                     10.0\n",
       "Leucine                        14.0\n",
       "Lysine                         12.0\n",
       "MethioninePlusCystine          13.0\n",
       "PhenylalaninePlusTyrosine      14.0\n",
       "Threonine                       7.0\n",
       "Tryptophan                      3.5\n",
       "Valine                         10.0"
      ]
     },
     "execution_count": 10,
     "metadata": {},
     "output_type": "execute_result"
    }
   ],
   "source": [
    "# mg/kg of bodyweight\n",
    "requirements = pd.read_csv('../datasets/amino-acid-requirements-1985/data.csv', index_col=0, header=None, delimiter=' ', names=['Amino acid', 'contents'])\n",
    "requirements"
   ]
  },
  {
   "cell_type": "code",
   "execution_count": 11,
   "id": "37a619b1",
   "metadata": {},
   "outputs": [],
   "source": [
    "my_mass = 70  # kg"
   ]
  },
  {
   "cell_type": "code",
   "execution_count": 12,
   "id": "89cf91aa",
   "metadata": {},
   "outputs": [
    {
     "data": {
      "text/plain": [
       "(0.84, 0.91)"
      ]
     },
     "execution_count": 12,
     "metadata": {},
     "output_type": "execute_result"
    }
   ],
   "source": [
    "# lysine, methionine\n",
    "lysine_requirement = requirements['contents']['Lysine'] * my_mass / 1000\n",
    "methionine_requirement = requirements['contents']['MethioninePlusCystine'] * my_mass / 1000\n",
    "\n",
    "lysine_requirement, methionine_requirement  # g per day for me"
   ]
  },
  {
   "cell_type": "markdown",
   "id": "ccebf7fe",
   "metadata": {},
   "source": [
    "# Get dry product requirements"
   ]
  },
  {
   "cell_type": "code",
   "execution_count": 42,
   "id": "3b4522cc",
   "metadata": {},
   "outputs": [],
   "source": [
    "# 6.8g/100g of dry rice, Biedronka\n",
    "rice_protein_per_100g = 6.8\n",
    "lentil_protein_per_100g = 26\n",
    "egg_protein_per_100g = 13\n",
    "egg_mass = 68"
   ]
  },
  {
   "cell_type": "code",
   "execution_count": 36,
   "id": "875c848d",
   "metadata": {},
   "outputs": [],
   "source": [
    "rice_methionine_per_100g = rice_protein['MethioninePlusCystine'] * rice_protein_per_100g\n",
    "\n",
    "lentil_protein['MethioninePlusCystine'] = (df['Lentil']['Methionine'] + df['Lentil']['Cystine']) / df['Lentil'].sum()\n",
    "lentil_methionine_per_100g = lentil_protein['MethioninePlusCystine'] * lentil_protein_per_100g\n",
    "\n",
    "rice_lysine_per_100g = rice_protein['Lysine'] * rice_protein_per_100g\n",
    "lentil_lysine_per_100g = lentil_protein['Lysine'] * lentil_protein_per_100g\n",
    "\n",
    "egg_lysine_per_100g = egg_protein['Lysine'] * egg_protein_per_100g\n",
    "egg_methionine_per_100g = egg_protein['MethioninePlusCystine'] * egg_protein_per_100g"
   ]
  },
  {
   "cell_type": "code",
   "execution_count": 37,
   "id": "117182b5",
   "metadata": {},
   "outputs": [
    {
     "data": {
      "text/plain": [
       "(0.21941918451158698, 0.2343795834555588)"
      ]
     },
     "execution_count": 37,
     "metadata": {},
     "output_type": "execute_result"
    }
   ],
   "source": [
    "rice_lysine_per_100g, rice_methionine_per_100g"
   ]
  },
  {
   "cell_type": "code",
   "execution_count": 38,
   "id": "9f31bae8",
   "metadata": {},
   "outputs": [
    {
     "data": {
      "text/plain": [
       "(1.9761129207383277, 0.6210640608034745)"
      ]
     },
     "execution_count": 38,
     "metadata": {},
     "output_type": "execute_result"
    }
   ],
   "source": [
    "lentil_lysine_per_100g, lentil_methionine_per_100g"
   ]
  },
  {
   "cell_type": "code",
   "execution_count": 39,
   "id": "109fd564",
   "metadata": {},
   "outputs": [],
   "source": [
    "rice_mass = 100\n",
    "lentil_mass = 50"
   ]
  },
  {
   "cell_type": "code",
   "execution_count": 40,
   "id": "be1c513c",
   "metadata": {},
   "outputs": [
    {
     "name": "stdout",
     "output_type": "stream",
     "text": [
      "Lysine required daily: 0.84\n",
      "Consumed: 1.2074756448807509\n"
     ]
    }
   ],
   "source": [
    "print('Lysine required daily:', lysine_requirement)\n",
    "print('Consumed:', rice_lysine_per_100g * rice_mass / 100 + lentil_lysine_per_100g * lentil_mass / 100)"
   ]
  },
  {
   "cell_type": "code",
   "execution_count": 41,
   "id": "fb263709",
   "metadata": {},
   "outputs": [
    {
     "name": "stdout",
     "output_type": "stream",
     "text": [
      "Methionine + cystine required daily: 0.91\n",
      "Consumed: 0.544911613857296\n"
     ]
    }
   ],
   "source": [
    "print('Methionine + cystine required daily:', methionine_requirement)\n",
    "print('Consumed:', rice_methionine_per_100g * rice_mass / 100 + lentil_methionine_per_100g * lentil_mass / 100)"
   ]
  },
  {
   "cell_type": "code",
   "execution_count": 43,
   "id": "635ff783",
   "metadata": {},
   "outputs": [
    {
     "data": {
      "text/plain": [
       "0.498155737704918"
      ]
     },
     "execution_count": 43,
     "metadata": {},
     "output_type": "execute_result"
    }
   ],
   "source": [
    "egg_mass * egg_methionine_per_100g / 100"
   ]
  }
 ],
 "metadata": {
  "kernelspec": {
   "display_name": "Python 3 (ipykernel)",
   "language": "python",
   "name": "python3"
  },
  "language_info": {
   "codemirror_mode": {
    "name": "ipython",
    "version": 3
   },
   "file_extension": ".py",
   "mimetype": "text/x-python",
   "name": "python",
   "nbconvert_exporter": "python",
   "pygments_lexer": "ipython3",
   "version": "3.10.6"
  }
 },
 "nbformat": 4,
 "nbformat_minor": 5
}
